{
  "nbformat": 4,
  "nbformat_minor": 0,
  "metadata": {
    "colab": {
      "provenance": [],
      "include_colab_link": true
    },
    "kernelspec": {
      "name": "python3",
      "display_name": "Python 3"
    },
    "language_info": {
      "name": "python"
    }
  },
  "cells": [
    {
      "cell_type": "markdown",
      "metadata": {
        "id": "view-in-github",
        "colab_type": "text"
      },
      "source": [
        "<a href=\"https://colab.research.google.com/github/MJMortensonWarwick/large_scale_data_for_research/blob/main/relational_dbs_in_python.ipynb\" target=\"_parent\"><img src=\"https://colab.research.google.com/assets/colab-badge.svg\" alt=\"Open In Colab\"/></a>"
      ]
    },
    {
      "cell_type": "markdown",
      "source": [
        "# DuckDB in Python\n",
        "Although there are many database options for your (Python) project, in recent years DuckDB has become particularly popular. There are several reasons for this, not least that DuckDB is very lightweight and easy to integrate. In fact, we don't need to worry about command-line installation, setting-up admin accounts or any of these other common tasks. While at an organisational level we may want these security measures and control, to quickly get something working in a classroom or for a \"hack-style\" app, DuckDB is particularly attractive. Let's get started:"
      ],
      "metadata": {
        "id": "O-neRDy2OQKS"
      }
    },
    {
      "cell_type": "code",
      "source": [
        "# If on your own machine you will probably need to !pip install duckdb\n",
        "import duckdb\n",
        "\n",
        "# Create a new database and connect with read and write options\n",
        "# content is the folder we work in for Colab notebooks - change as required if\n",
        "# running on a local machine\n",
        "conn = duckdb.connect('/content/mydb.db', read_only=False)"
      ],
      "metadata": {
        "id": "DGDIrMhvqQU2"
      },
      "execution_count": 3,
      "outputs": []
    },
    {
      "cell_type": "markdown",
      "source": [
        "Here we have imported the package and created an active connection. By specifying a file name as the connection we have created local storage for our database. DuckDB does also allow for \"in-memory\" mode where our DB is purely in RAM and destroyed at the end of our session. We also specify our connection is not \"read-only\", meaning we can write to our database.\n",
        "\n",
        "Let's quickly check the DB has been saved to disk:"
      ],
      "metadata": {
        "id": "VtklzpMNPnQY"
      }
    },
    {
      "cell_type": "code",
      "source": [
        "import os\n",
        "with os.scandir('/content') as entries:\n",
        "    for entry in entries:\n",
        "        print(entry.name)"
      ],
      "metadata": {
        "colab": {
          "base_uri": "https://localhost:8080/"
        },
        "id": "XPkDx-UXOWRM",
        "outputId": "110f7adc-e87d-4343-a4a5-df1379a8d370"
      },
      "execution_count": 4,
      "outputs": [
        {
          "output_type": "stream",
          "name": "stdout",
          "text": [
            ".config\n",
            "mydb.db.wal\n",
            "mydb.db\n",
            "sample_data\n"
          ]
        }
      ]
    },
    {
      "cell_type": "markdown",
      "source": [
        "Everything has worked!\n",
        "\n",
        "To start building a database. We will first build the _orders_ table we worked with previously. We probably want to include a primary key (\"id\") to distinguish records. Typically this is an auto-increment integer (first record \"id = 1\", second record \"id = 2\" and so on. These work slightly differently in DuckDB and we need to first create a _sequence_:"
      ],
      "metadata": {
        "id": "5OMBgZ6zQS0M"
      }
    },
    {
      "cell_type": "code",
      "source": [
        "conn.execute(\"CREATE SEQUENCE id_seq START 1;\")"
      ],
      "metadata": {
        "colab": {
          "base_uri": "https://localhost:8080/"
        },
        "id": "9JWbALi2zd_G",
        "outputId": "0dd25de1-9755-4104-9f13-cafcc8b57c19"
      },
      "execution_count": 5,
      "outputs": [
        {
          "output_type": "execute_result",
          "data": {
            "text/plain": [
              "<duckdb.duckdb.DuckDBPyConnection at 0x7e5e64183e30>"
            ]
          },
          "metadata": {},
          "execution_count": 5
        }
      ]
    },
    {
      "cell_type": "markdown",
      "source": [
        "Firstly, to explain something of the syntax. We are using the variable _conn_ that we created earlier when specifying our DB. This is, as the name suggests, a connection to this database which allows us to directly _execute_ SQL commands (written as Python strings). Note we emulate common SQL patterns of capitalisation and end the command with semi-colon (\";\"). Note also as well our SQL should always be wrapped in quotation marks (i.e. \"_SQL\\_COMMAND_\") and anything within the command should use punctuation marks (e.g. \"_SELECT * FROM table WHERE name = 'Jardon';_\").\n",
        "\n",
        "Secondly, let's discuss the specific command. We have created a sequence named _id\\_seq_ which starts at \"1\". This means our first element of the sequence will be 1, the next 2 and so on. With this in place we can create a table:"
      ],
      "metadata": {
        "id": "Gj9UukC3RCpl"
      }
    },
    {
      "cell_type": "code",
      "source": [
        "conn.execute('''\n",
        "CREATE TABLE orders(\n",
        "  id INTEGER NOT NULL PRIMARY KEY default NEXTVAL('id_seq'),\n",
        "  trans_date VARCHAR default NULL,\n",
        "  product_id INTEGER default NULL,\n",
        "  category_id INTEGER default NULL,\n",
        "  price VARCHAR default NULL,\n",
        "  county VARCHAR default NULL,\n",
        "  customer_surname VARCHAR default NULL,\n",
        "  customer_firstname VARCHAR default NULL,\n",
        "  date_of_birth VARCHAR,\n",
        "  newsletter VARCHAR default NULL,\n",
        "  promo_code VARCHAR default NULL\n",
        "  );\n",
        "''')"
      ],
      "metadata": {
        "colab": {
          "base_uri": "https://localhost:8080/"
        },
        "id": "fdmgmTQdqUqN",
        "outputId": "f0365448-d9e4-46a6-fffb-33044a01cb4e"
      },
      "execution_count": 6,
      "outputs": [
        {
          "output_type": "execute_result",
          "data": {
            "text/plain": [
              "<duckdb.duckdb.DuckDBPyConnection at 0x7e5e64183e30>"
            ]
          },
          "metadata": {},
          "execution_count": 6
        }
      ]
    },
    {
      "cell_type": "markdown",
      "source": [
        "As said, very similar. We list a table name and a sequence of fields. For each field we specify a data type, although we simplify by just giving a generic type rather than a size (DuckDB will infer the rest). We can also specify our default value (_NULL_ in most cases), whether _NULL_ is allowed and we can include various other 'rules'.\n",
        "\n",
        "The one field which is slightly different is our _id_ field. Here we use our _id\\_seq_ sequence to manage auto-incrementation as the default value and we specify this as the primary key at the point of definition rather than at the end of the _CREATE TABLE_ command.\n",
        "\n",
        "With the table setup we can add data, again in a similar way as before:"
      ],
      "metadata": {
        "id": "N8ZssrU_SpA5"
      }
    },
    {
      "cell_type": "code",
      "source": [
        "conn.execute(\"INSERT INTO orders VALUES (NEXTVAL('id_seq'),'2019-08-17',56,2,'73.92','Shetland','Bravo','Sid','1966-11-01','1','SUMMER MADNESS');\")"
      ],
      "metadata": {
        "colab": {
          "base_uri": "https://localhost:8080/"
        },
        "id": "DXzNiphIwDmm",
        "outputId": "cc2a7ea1-6f0e-472a-b2f7-b69aab162a71"
      },
      "execution_count": 7,
      "outputs": [
        {
          "output_type": "execute_result",
          "data": {
            "text/plain": [
              "<duckdb.duckdb.DuckDBPyConnection at 0x7e5e64183e30>"
            ]
          },
          "metadata": {},
          "execution_count": 7
        }
      ]
    },
    {
      "cell_type": "markdown",
      "source": [
        "Here we have added a single row by passing table name and the sequence of values as a tuple. We should note we pass the _id_ first of all (using our _id\\_seq_ sequence) and all string/VARCHAR values with punctuation marks (' ').\n",
        "\n",
        "We can check this has worked by running a query:"
      ],
      "metadata": {
        "id": "1wzRxIVxT6j5"
      }
    },
    {
      "cell_type": "code",
      "source": [
        "conn.execute(\"SELECT * FROM orders;\").fetchall()"
      ],
      "metadata": {
        "colab": {
          "base_uri": "https://localhost:8080/"
        },
        "id": "wOTc6SQLYcyg",
        "outputId": "be9ab7ce-b94f-460d-bb79-acde6b489e84"
      },
      "execution_count": 8,
      "outputs": [
        {
          "output_type": "execute_result",
          "data": {
            "text/plain": [
              "[(1,\n",
              "  '2019-08-17',\n",
              "  56,\n",
              "  2,\n",
              "  '73.92',\n",
              "  'Shetland',\n",
              "  'Bravo',\n",
              "  'Sid',\n",
              "  '1966-11-01',\n",
              "  '1',\n",
              "  'SUMMER MADNESS')]"
            ]
          },
          "metadata": {},
          "execution_count": 8
        }
      ]
    },
    {
      "cell_type": "markdown",
      "source": [
        "Our SQL syntax is identical as before, but note we need to pass the Python command _fetchall()_ in order to bring the results into our Python session and print these to screen.\n",
        "\n",
        "Everything seems to be working so let's add the rest of the data:"
      ],
      "metadata": {
        "id": "WJSZn_qGUYoB"
      }
    },
    {
      "cell_type": "code",
      "source": [
        "cmdOne = \"INSERT INTO 'orders' VALUES (NEXTVAL('id_seq'),'2019-07-04',43,2,'70.59','Cardiganshire','Patrick','Elvis','1974-01-07','1','PROMO10'),(NEXTVAL('id_seq'),'2019-07-07',22,2,'24.31','Suffolk','Davenport','Tyrone','1989-03-16','1',''),(NEXTVAL('id_seq'),'2019-01-26',1,1,'46.51','Inverness-shire','Jensen','Jillian','1948-05-07','0','PROMO15'),(NEXTVAL('id_seq'),'2019-02-07',11,2,'83.10','Lincolnshire','Sexton','Mona','1975-05-01','0',''),(NEXTVAL('id_seq'),'2019-09-02',90,3,'99.12','Ross-shire','Hooper','Xandra','1975-01-22','0',''),(NEXTVAL('id_seq'),'2019-09-19',89,3,'98.06','Midlothian','Leonard','Velma','1970-12-05','0','PROMO10'),(NEXTVAL('id_seq'),'2019-04-24',75,2,'62.08','Cambridgeshire','Pope','Rana','1954-07-30','0',''),(NEXTVAL('id_seq'),'2019-11-01',66,3,'63.58','Caithness','Velez','Griffin','1938-08-05','0','PROMO15'),(NEXTVAL('id_seq'),'2019-09-20',99,5,'63.79','Surrey','Anderson','Hadassah','1935-05-16','1','PROMO10');\"\n",
        "cmdTwo = \"INSERT INTO 'orders' VALUES (NEXTVAL('id_seq'),'2019-01-27',16,4,'61.73','Flintshire','Barr','Quinn','1942-09-15','1','PROMO10'),(NEXTVAL('id_seq'),'2019-03-26',65,3,'16.36','Berwickshire','Carr','Grace','1934-08-10','0',''),(NEXTVAL('id_seq'),'2019-07-18',61,4,'53.26','Derbyshire','Dillon','Amethyst','1961-06-13','1',''),(NEXTVAL('id_seq'),'2019-01-29',62,5,'87.26','Buckinghamshire','Lee','Fritz','1943-09-02','1','PROMO10'),(NEXTVAL('id_seq'),'2019-02-24',93,4,'77.27','Caithness','Hunt','Caesar','1962-07-20','1',''),(NEXTVAL('id_seq'),'2019-05-16',32,3,'76.93','Denbighshire','Cleveland','Amethyst','1999-03-31','1',''),(NEXTVAL('id_seq'),'2019-07-16',11,2,'59.38','Carmarthenshire','Greene','Clare','1952-06-21','1','PROMO15'),(NEXTVAL('id_seq'),'2019-08-19',44,5,'21.04','Dunbartonshire','Branch','Brenda','1983-03-10','1',''),(NEXTVAL('id_seq'),'2019-10-29',44,1,'91.95','Wiltshire','Lang','Hunter','1981-12-10','1',''),(NEXTVAL('id_seq'),'2019-02-18',62,1,'56.23','Caithness','Mueller','Kyla','1990-04-21','0','PROMO10');\"\n",
        "cmdThree = \"INSERT INTO 'orders' VALUES (NEXTVAL('id_seq'),'2019-09-25',33,2,'32.98','Somerset','Brown','Dahlia','1990-09-20','1','PROMO15'),(NEXTVAL('id_seq'),'2019-12-11',93,5,'43.40','Suffolk','Davenport','Tyrone','1989-03-16','1','PROMO10'),(NEXTVAL('id_seq'),'2019-11-22',70,4,'39.67','Cambridgeshire','Bruno','Jordan','1997-06-05','0','SUMMER MADNESS'),(NEXTVAL('id_seq'),'2019-07-11',78,3,'45.14','Norfolk','Schneider','Thor','1942-05-28','1',''),(NEXTVAL('id_seq'),'2019-09-24',13,1,'80.68','Angus','Simpson','Nicole','1973-07-11','0',''),(NEXTVAL('id_seq'),'2019-11-11',13,3,'49.72','Suffolk','Golden','Martin','1974-05-26','0',''),(NEXTVAL('id_seq'),'2019-10-20',1,4,'14.16','Hampshire','Massey','Fiona','1975-02-24','0','PROMO10'),(NEXTVAL('id_seq'),'2019-03-02',50,4,'28.68','Cumberland','Jefferson','Ashton','1976-12-03','1',''),(NEXTVAL('id_seq'),'2019-05-08',12,2,'60.25','Wigtownshire','Ingram','Hammett','1956-10-21','1',''),(NEXTVAL('id_seq'),'2019-06-22',17,4,'50.22','Denbighshire','Dickerson','Evangeline','1972-08-16','0','PROMO15');\"\n",
        "cmdFour = \"INSERT INTO 'orders' VALUES (NEXTVAL('id_seq'),'2019-12-02',5,5,'11.52','Westmorland','Sosa','Armand','1975-06-11','0','SUMMER MADNESS'),(NEXTVAL('id_seq'),'2019-08-14',37,3,'95.56','Bedfordshire','Warren','Nicole','2004-03-28','1','PROMO15'),(NEXTVAL('id_seq'),'2019-02-05',89,2,'3.73','Selkirkshire','Sparks','Dolan','1952-07-14','1','SUMMER MADNESS'),(NEXTVAL('id_seq'),'2019-05-21',2,1,'64.61','Caithness','Bowman','Naomi','1979-04-16','1','PROMO15'),(NEXTVAL('id_seq'),'2019-10-29',35,2,'8.41','Glamorgan','Bauer','Tanek','1992-11-05','1',''),(NEXTVAL('id_seq'),'2019-10-19',50,1,'55.83','Somerset','Brown','Dahlia','1990-09-20','1','SUMMER MADNESS'),(NEXTVAL('id_seq'),'2019-02-18',91,3,'83.27','Sutherland','Roth','Ebony','2005-01-01','0',''),(NEXTVAL('id_seq'),'2019-08-12',92,3,'27.15','Midlothian','Adkins','Hilel','1956-08-14','0',''),(NEXTVAL('id_seq'),'2019-06-27',17,4,'21.64','West Lothian','Harrington','Drew','1937-01-28','1',''),(NEXTVAL('id_seq'),'2019-08-15',79,4,'53.52','Northamptonshire','Wiggins','Wynter','1967-03-05','1','PROMO10');\"\n",
        "cmdFive = \"INSERT INTO 'orders' VALUES (NEXTVAL('id_seq'),'2019-06-05',15,4,'60.47','Merionethshire','Hobbs','Wyoming','1934-07-24','0','SUMMER MADNESS'),(NEXTVAL('id_seq'),'2019-05-24',19,1,'38.96','Shetland','Bravo','Sid','1966-11-01','1','SUMMER MADNESS'),(NEXTVAL('id_seq'),'2019-01-07',76,4,'13.98','Bedfordshire','Valentine','Marah','1968-01-20','1',''),(NEXTVAL('id_seq'),'2019-11-13',21,4,'18.22','Hertfordshire','Davenport','Steven','1961-01-05','1',''),(NEXTVAL('id_seq'),'2019-05-13',16,2,'79.52','Stirlingshire','Mason','Dai','1970-07-19','1','SUMMER MADNESS'),(NEXTVAL('id_seq'),'2019-12-05',26,4,'37.66','Cambridgeshire','Jefferson','Kylie','1955-03-27','1',''),(NEXTVAL('id_seq'),'2019-03-02',75,2,'9.46','Hertfordshire','Flores','Amber','1961-06-13','1',''),(NEXTVAL('id_seq'),'2019-12-06',98,4,'39.23','Roxburghshire','Burnett','Grace','2004-10-28','0','PROMO10'),(NEXTVAL('id_seq'),'2019-12-14',56,5,'40.41','Devon','Petersen','Nevada','1947-07-28','0',''),(NEXTVAL('id_seq'),'2019-01-10',37,4,'7.67','Derbyshire','Suarez','Mechelle','1934-06-16','1','');\"\n",
        "cmdSix = \"INSERT INTO 'orders' VALUES (NEXTVAL('id_seq'),'2019-01-18',26,1,'66.98','Hampshire','Ramos','Adele','1995-04-04','0','PROMO10'),(NEXTVAL('id_seq'),'2019-11-11',70,3,'20.77','Cambridgeshire','Bruno','Jordan','1997-06-05','0','SUMMER MADNESS'),(NEXTVAL('id_seq'),'2019-06-15',1,3,'28.61','Angus','Carr','Joelle','1999-04-09','1',''),(NEXTVAL('id_seq'),'2019-08-16',58,2,'41.86','Somerset','Brown','Dahlia','1990-09-20','1',''),(NEXTVAL('id_seq'),'2019-12-02',80,2,'35.19','Somerset','Taylor','Teagan','1962-02-08','0',''),(NEXTVAL('id_seq'),'2019-08-21',91,4,'72.23','Cheshire','Olsen','Winifred','1971-07-14','1',''),(NEXTVAL('id_seq'),'2019-07-04',99,2,'45.94','Worcestershire','Melendez','Brendan','1940-01-01','1',''),(NEXTVAL('id_seq'),'2019-06-11',3,2,'34.79','Brecknockshire','Vasquez','Abdul','1939-05-02','1','PROMO10'),(NEXTVAL('id_seq'),'2019-09-21',100,2,'60.13','Monmouthshire','Mclaughlin','Veda','1953-07-10','0',''),(NEXTVAL('id_seq'),'2019-09-13',99,1,'82.91','Denbighshire','Singleton','Rafael','1950-09-30','0','SUMMER MADNESS');\"\n",
        "cmdSeven = \"INSERT INTO 'orders' VALUES (NEXTVAL('id_seq'),'2019-08-16',27,3,'2.84','Cardiganshire','Reilly','Aileen','1950-12-31','1','PROMO15'),(NEXTVAL('id_seq'),'2019-04-11',71,5,'55.81','Northamptonshire','Cross','Xenos','1960-03-25','0',''),(NEXTVAL('id_seq'),'2019-08-26',85,2,'17.62','East Lothian','Carpenter','Brielle','1979-04-28','0','PROMO10'),(NEXTVAL('id_seq'),'2019-05-31',14,5,'73.22','Shetland','Bravo','Sid','1966-11-01','1','SUMMER MADNESS'),(NEXTVAL('id_seq'),'2019-04-20',42,3,'23.98','Cumberland','Byers','Xerxes','1950-08-26','0',''),(NEXTVAL('id_seq'),'2019-09-07',6,3,'6.75','Kent','Barlow','Harriet','1990-12-15','0',''),(NEXTVAL('id_seq'),'2019-08-26',83,3,'72.03','Yorkshire','Velez','Martha','1996-04-09','0',''),(NEXTVAL('id_seq'),'2019-08-22',17,4,'68.35','Lincolnshire','Valdez','Gil','1964-04-05','1','SUMMER MADNESS'),(NEXTVAL('id_seq'),'2019-05-19',74,2,'93.23','Wigtownshire','Ferguson','Teagan','1962-04-09','1','PROMO10'),(NEXTVAL('id_seq'),'2019-01-12',68,5,'64.75','Sussex','Mann','Simon','1995-08-27','0','PROMO10');\"\n",
        "cmdEight = \"INSERT INTO 'orders' VALUES (NEXTVAL('id_seq'),'2019-08-17',22,3,'88.35','Berkshire','Bender','Declan','1987-04-11','0',''),(NEXTVAL('id_seq'),'2019-04-01',38,3,'38.74','Yorkshire','Schmidt','Tatyana','1936-06-23','0','PROMO15'),(NEXTVAL('id_seq'),'2019-05-04',54,4,'90.49','Hertfordshire','Davenport','Steven','1961-01-05','1','PROMO15'),(NEXTVAL('id_seq'),'2019-06-18',55,4,'57.00','Cambridgeshire','Bruno','Jordan','1997-06-05','0','SUMMER MADNESS'),(NEXTVAL('id_seq'),'2019-12-17',79,4,'85.81','Hertfordshire','Davenport','Steven','1961-01-05','1',''),(NEXTVAL('id_seq'),'2019-03-12',88,5,'92.22','Ross-shire','Hayden','Amena','1998-04-27','0',''),(NEXTVAL('id_seq'),'2019-08-12',47,5,'32.87','Banffshire','Thomas','Jermaine','1948-05-26','1','PROMO15'),(NEXTVAL('id_seq'),'2019-04-18',62,4,'12.97','Banffshire','Benjamin','Leo','1976-05-11','0','SUMMER MADNESS'),(NEXTVAL('id_seq'),'2019-09-01',82,2,'47.85','Kincardineshire','Russo','Aristotle','1944-07-19','0',''),(NEXTVAL('id_seq'),'2019-08-18',53,3,'39.49','Suffolk','Davenport','Tyrone','1989-03-16','1','PROMO15');\"\n",
        "cmdNine = \"INSERT INTO 'orders' VALUES (NEXTVAL('id_seq'),'2019-07-02',16,1,'55.84','Radnorshire','Reid','Gil','1984-06-17','0','PROMO15'),(NEXTVAL('id_seq'),'2019-01-15',15,4,'87.08','Northumberland','Cohen','Aaron','1953-04-14','0','PROMO15'),(NEXTVAL('id_seq'),'2019-01-27',36,4,'56.84','Suffolk','Davenport','Tyrone','1989-03-16','1','SUMMER MADNESS'),(NEXTVAL('id_seq'),'2019-10-29',54,4,'8.85','Sussex','Moon','Keefe','1996-10-07','1',''),(NEXTVAL('id_seq'),'2019-09-02',26,4,'13.36','Northamptonshire','Nolan','Nora','1999-03-01','1','SUMMER MADNESS'),(NEXTVAL('id_seq'),'2019-08-11',86,5,'43.22','Monmouthshire','Flynn','Timon','1953-01-06','0',''),(NEXTVAL('id_seq'),'2019-02-14',8,5,'85.17','Montgomeryshire','Wright','Belle','1958-09-02','0',''),(NEXTVAL('id_seq'),'2019-09-13',46,2,'40.40','Staffordshire','Lynn','Rachel','1995-01-11','1',''),(NEXTVAL('id_seq'),'2019-12-16',9,1,'34.00','Kirkcudbrightshire','Frederick','Kane','2002-11-22','0',''),(NEXTVAL('id_seq'),'2019-12-08',6,2,'19.37','Anglesey','Cannon','Sydnee','1981-12-09','1','');\"\n",
        "cmdTen = \"INSERT INTO 'orders' VALUES (NEXTVAL('id_seq'),'2019-04-24',7,5,'43.24','Cambridgeshire','Bruno','Jordan','1997-06-05','0',''),(NEXTVAL('id_seq'),'2019-06-24',83,4,'43.10','Huntingdonshire','Guthrie','Amela','1968-06-09','1','PROMO10'),(NEXTVAL('id_seq'),'2019-05-22',72,1,'28.35','Radnorshire','Shelton','Wing','1985-11-24','1',''),(NEXTVAL('id_seq'),'2019-08-27',4,2,'80.91','Kincardineshire','Suarez','Bradley','1960-05-12','1','PROMO15'),(NEXTVAL('id_seq'),'2019-12-16',50,4,'44.93','Suffolk','Carr','Miriam','1979-07-03','0',''),(NEXTVAL('id_seq'),'2019-09-03',28,4,'52.90','Cambridgeshire','Evans','Mallory','1954-04-10','1',''),(NEXTVAL('id_seq'),'2019-08-05',52,3,'62.49','Yorkshire','Riggs','Veronica','2004-02-02','0','PROMO15'),(NEXTVAL('id_seq'),'2019-05-03',40,1,'44.26','Derbyshire','Duncan','Flavia','1960-03-27','0','PROMO15'),(NEXTVAL('id_seq'),'2019-10-29',18,1,'56.37','Brecknockshire','Mejia','Bert','1969-01-12','1','PROMO10'),(NEXTVAL('id_seq'),'2019-02-28',98,5,'93.49','Dumfriesshire','Larsen','Genevieve','1981-09-20','0','');\"\n",
        "\n",
        "cmds = [cmdOne, cmdTwo, cmdThree, cmdFour, cmdFive, cmdSix, cmdSeven, cmdEight, cmdNine, cmdTen]\n",
        "\n",
        "for cmd in cmds:\n",
        "  conn.execute(cmd)"
      ],
      "metadata": {
        "id": "KsbIB9d3hY1r"
      },
      "execution_count": 9,
      "outputs": []
    },
    {
      "cell_type": "markdown",
      "source": [
        "Syntax-wise this is the same as before. However, because we are managing our SQL queries as Python variables we can use time-savers such as the for loop that executes them all one-by-one.\n",
        "\n",
        "Again, let's check this has worked by running some typical queries:"
      ],
      "metadata": {
        "id": "jthCE_l7UuQ9"
      }
    },
    {
      "cell_type": "code",
      "source": [
        "conn.execute(\"SELECT COUNT(*) FROM 'orders'\").fetchall()"
      ],
      "metadata": {
        "colab": {
          "base_uri": "https://localhost:8080/"
        },
        "id": "2MC47bAiFa7k",
        "outputId": "df2260da-e92c-4b54-e860-efa8f1102d83"
      },
      "execution_count": 10,
      "outputs": [
        {
          "output_type": "execute_result",
          "data": {
            "text/plain": [
              "[(100,)]"
            ]
          },
          "metadata": {},
          "execution_count": 10
        }
      ]
    },
    {
      "cell_type": "code",
      "source": [
        "conn.execute(\"SELECT * FROM 'orders' WHERE category_id=1;\").fetchall()"
      ],
      "metadata": {
        "colab": {
          "base_uri": "https://localhost:8080/"
        },
        "id": "Fc6ttzJXLUjL",
        "outputId": "22cca54b-ad90-440e-bdea-7fb65b07b302"
      },
      "execution_count": 11,
      "outputs": [
        {
          "output_type": "execute_result",
          "data": {
            "text/plain": [
              "[(4,\n",
              "  '2019-01-26',\n",
              "  1,\n",
              "  1,\n",
              "  '46.51',\n",
              "  'Inverness-shire',\n",
              "  'Jensen',\n",
              "  'Jillian',\n",
              "  '1948-05-07',\n",
              "  '0',\n",
              "  'PROMO15'),\n",
              " (19,\n",
              "  '2019-10-29',\n",
              "  44,\n",
              "  1,\n",
              "  '91.95',\n",
              "  'Wiltshire',\n",
              "  'Lang',\n",
              "  'Hunter',\n",
              "  '1981-12-10',\n",
              "  '1',\n",
              "  ''),\n",
              " (20,\n",
              "  '2019-02-18',\n",
              "  62,\n",
              "  1,\n",
              "  '56.23',\n",
              "  'Caithness',\n",
              "  'Mueller',\n",
              "  'Kyla',\n",
              "  '1990-04-21',\n",
              "  '0',\n",
              "  'PROMO10'),\n",
              " (25,\n",
              "  '2019-09-24',\n",
              "  13,\n",
              "  1,\n",
              "  '80.68',\n",
              "  'Angus',\n",
              "  'Simpson',\n",
              "  'Nicole',\n",
              "  '1973-07-11',\n",
              "  '0',\n",
              "  ''),\n",
              " (34,\n",
              "  '2019-05-21',\n",
              "  2,\n",
              "  1,\n",
              "  '64.61',\n",
              "  'Caithness',\n",
              "  'Bowman',\n",
              "  'Naomi',\n",
              "  '1979-04-16',\n",
              "  '1',\n",
              "  'PROMO15'),\n",
              " (36,\n",
              "  '2019-10-19',\n",
              "  50,\n",
              "  1,\n",
              "  '55.83',\n",
              "  'Somerset',\n",
              "  'Brown',\n",
              "  'Dahlia',\n",
              "  '1990-09-20',\n",
              "  '1',\n",
              "  'SUMMER MADNESS'),\n",
              " (42,\n",
              "  '2019-05-24',\n",
              "  19,\n",
              "  1,\n",
              "  '38.96',\n",
              "  'Shetland',\n",
              "  'Bravo',\n",
              "  'Sid',\n",
              "  '1966-11-01',\n",
              "  '1',\n",
              "  'SUMMER MADNESS'),\n",
              " (51,\n",
              "  '2019-01-18',\n",
              "  26,\n",
              "  1,\n",
              "  '66.98',\n",
              "  'Hampshire',\n",
              "  'Ramos',\n",
              "  'Adele',\n",
              "  '1995-04-04',\n",
              "  '0',\n",
              "  'PROMO10'),\n",
              " (60,\n",
              "  '2019-09-13',\n",
              "  99,\n",
              "  1,\n",
              "  '82.91',\n",
              "  'Denbighshire',\n",
              "  'Singleton',\n",
              "  'Rafael',\n",
              "  '1950-09-30',\n",
              "  '0',\n",
              "  'SUMMER MADNESS'),\n",
              " (81,\n",
              "  '2019-07-02',\n",
              "  16,\n",
              "  1,\n",
              "  '55.84',\n",
              "  'Radnorshire',\n",
              "  'Reid',\n",
              "  'Gil',\n",
              "  '1984-06-17',\n",
              "  '0',\n",
              "  'PROMO15'),\n",
              " (89,\n",
              "  '2019-12-16',\n",
              "  9,\n",
              "  1,\n",
              "  '34.00',\n",
              "  'Kirkcudbrightshire',\n",
              "  'Frederick',\n",
              "  'Kane',\n",
              "  '2002-11-22',\n",
              "  '0',\n",
              "  ''),\n",
              " (93,\n",
              "  '2019-05-22',\n",
              "  72,\n",
              "  1,\n",
              "  '28.35',\n",
              "  'Radnorshire',\n",
              "  'Shelton',\n",
              "  'Wing',\n",
              "  '1985-11-24',\n",
              "  '1',\n",
              "  ''),\n",
              " (98,\n",
              "  '2019-05-03',\n",
              "  40,\n",
              "  1,\n",
              "  '44.26',\n",
              "  'Derbyshire',\n",
              "  'Duncan',\n",
              "  'Flavia',\n",
              "  '1960-03-27',\n",
              "  '0',\n",
              "  'PROMO15'),\n",
              " (99,\n",
              "  '2019-10-29',\n",
              "  18,\n",
              "  1,\n",
              "  '56.37',\n",
              "  'Brecknockshire',\n",
              "  'Mejia',\n",
              "  'Bert',\n",
              "  '1969-01-12',\n",
              "  '1',\n",
              "  'PROMO10')]"
            ]
          },
          "metadata": {},
          "execution_count": 11
        }
      ]
    },
    {
      "cell_type": "code",
      "source": [
        "conn.execute(\"SELECT * FROM 'orders' WHERE county LIKE 'D%';\").fetchall()"
      ],
      "metadata": {
        "colab": {
          "base_uri": "https://localhost:8080/"
        },
        "id": "-z_UvYuCNKhp",
        "outputId": "f14d74d0-ac99-45d3-af52-86caf57ff708"
      },
      "execution_count": 12,
      "outputs": [
        {
          "output_type": "execute_result",
          "data": {
            "text/plain": [
              "[(13,\n",
              "  '2019-07-18',\n",
              "  61,\n",
              "  4,\n",
              "  '53.26',\n",
              "  'Derbyshire',\n",
              "  'Dillon',\n",
              "  'Amethyst',\n",
              "  '1961-06-13',\n",
              "  '1',\n",
              "  ''),\n",
              " (16,\n",
              "  '2019-05-16',\n",
              "  32,\n",
              "  3,\n",
              "  '76.93',\n",
              "  'Denbighshire',\n",
              "  'Cleveland',\n",
              "  'Amethyst',\n",
              "  '1999-03-31',\n",
              "  '1',\n",
              "  ''),\n",
              " (18,\n",
              "  '2019-08-19',\n",
              "  44,\n",
              "  5,\n",
              "  '21.04',\n",
              "  'Dunbartonshire',\n",
              "  'Branch',\n",
              "  'Brenda',\n",
              "  '1983-03-10',\n",
              "  '1',\n",
              "  ''),\n",
              " (30,\n",
              "  '2019-06-22',\n",
              "  17,\n",
              "  4,\n",
              "  '50.22',\n",
              "  'Denbighshire',\n",
              "  'Dickerson',\n",
              "  'Evangeline',\n",
              "  '1972-08-16',\n",
              "  '0',\n",
              "  'PROMO15'),\n",
              " (49,\n",
              "  '2019-12-14',\n",
              "  56,\n",
              "  5,\n",
              "  '40.41',\n",
              "  'Devon',\n",
              "  'Petersen',\n",
              "  'Nevada',\n",
              "  '1947-07-28',\n",
              "  '0',\n",
              "  ''),\n",
              " (50,\n",
              "  '2019-01-10',\n",
              "  37,\n",
              "  4,\n",
              "  '7.67',\n",
              "  'Derbyshire',\n",
              "  'Suarez',\n",
              "  'Mechelle',\n",
              "  '1934-06-16',\n",
              "  '1',\n",
              "  ''),\n",
              " (60,\n",
              "  '2019-09-13',\n",
              "  99,\n",
              "  1,\n",
              "  '82.91',\n",
              "  'Denbighshire',\n",
              "  'Singleton',\n",
              "  'Rafael',\n",
              "  '1950-09-30',\n",
              "  '0',\n",
              "  'SUMMER MADNESS'),\n",
              " (98,\n",
              "  '2019-05-03',\n",
              "  40,\n",
              "  1,\n",
              "  '44.26',\n",
              "  'Derbyshire',\n",
              "  'Duncan',\n",
              "  'Flavia',\n",
              "  '1960-03-27',\n",
              "  '0',\n",
              "  'PROMO15'),\n",
              " (100,\n",
              "  '2019-02-28',\n",
              "  98,\n",
              "  5,\n",
              "  '93.49',\n",
              "  'Dumfriesshire',\n",
              "  'Larsen',\n",
              "  'Genevieve',\n",
              "  '1981-09-20',\n",
              "  '0',\n",
              "  '')]"
            ]
          },
          "metadata": {},
          "execution_count": 12
        }
      ]
    },
    {
      "cell_type": "markdown",
      "source": [
        "Our syntax is nearly identical to \"normal\" SQL in databases (although we do not use punctuation or quotation marks around fields). All seems to be working so let's create the remaining tables."
      ],
      "metadata": {
        "id": "2a4DuuPUVIqc"
      }
    },
    {
      "cell_type": "code",
      "source": [
        "conn.execute(\"CREATE SEQUENCE cat_id_seq START 1;\")\n",
        "\n",
        "conn.execute(\"CREATE TABLE 'categories' (id INTEGER NOT NULL PRIMARY KEY default NEXTVAL('cat_id_seq'), category_name VARCHAR default NULL);\")\n",
        "\n",
        "conn.execute(\"INSERT INTO 'categories' VALUES (NEXTVAL('cat_id_seq'),'Party'),(NEXTVAL('cat_id_seq'),'Gadgetts'),(NEXTVAL('cat_id_seq'),'Costume'),(NEXTVAL('cat_id_seq'),'Celebration'),(NEXTVAL('cat_id_seq'),'Joke');\")\n",
        "\n",
        "conn.execute(\"CREATE TABLE 'promotions' (code VARCHAR NOT NULL PRIMARY KEY, discount DOUBLE DEFAULT NULL);\")\n",
        "\n",
        "conn.execute(\"INSERT INTO 'promotions' VALUES ('PROMO10', '10'),('PROMO15', '15'),('SUMMER MADNESS','35');\")"
      ],
      "metadata": {
        "colab": {
          "base_uri": "https://localhost:8080/"
        },
        "id": "gB2sCthUh1xK",
        "outputId": "6855abbf-9d1e-4ebc-cb5a-b6f27a0ebb95"
      },
      "execution_count": 13,
      "outputs": [
        {
          "output_type": "execute_result",
          "data": {
            "text/plain": [
              "<duckdb.duckdb.DuckDBPyConnection at 0x7e5e64183e30>"
            ]
          },
          "metadata": {},
          "execution_count": 13
        }
      ]
    },
    {
      "cell_type": "markdown",
      "source": [
        "With multiple tables we can now execute joins and make use of the relational structure:"
      ],
      "metadata": {
        "id": "tDfVllpzVdbt"
      }
    },
    {
      "cell_type": "code",
      "source": [
        "conn.execute(\"SELECT o.customer_firstname, o.customer_surname, c.category_name FROM orders o LEFT JOIN categories c ON (o.category_id = c.id);\").fetchall()"
      ],
      "metadata": {
        "colab": {
          "base_uri": "https://localhost:8080/"
        },
        "id": "9GfG17ZiQYTK",
        "outputId": "f99c8141-6649-4a9a-c05b-eacac2e3b1e6"
      },
      "execution_count": 14,
      "outputs": [
        {
          "output_type": "execute_result",
          "data": {
            "text/plain": [
              "[('Sid', 'Bravo', 'Gadgetts'),\n",
              " ('Elvis', 'Patrick', 'Gadgetts'),\n",
              " ('Tyrone', 'Davenport', 'Gadgetts'),\n",
              " ('Jillian', 'Jensen', 'Party'),\n",
              " ('Mona', 'Sexton', 'Gadgetts'),\n",
              " ('Xandra', 'Hooper', 'Costume'),\n",
              " ('Velma', 'Leonard', 'Costume'),\n",
              " ('Rana', 'Pope', 'Gadgetts'),\n",
              " ('Griffin', 'Velez', 'Costume'),\n",
              " ('Hadassah', 'Anderson', 'Joke'),\n",
              " ('Quinn', 'Barr', 'Celebration'),\n",
              " ('Grace', 'Carr', 'Costume'),\n",
              " ('Amethyst', 'Dillon', 'Celebration'),\n",
              " ('Fritz', 'Lee', 'Joke'),\n",
              " ('Caesar', 'Hunt', 'Celebration'),\n",
              " ('Amethyst', 'Cleveland', 'Costume'),\n",
              " ('Clare', 'Greene', 'Gadgetts'),\n",
              " ('Brenda', 'Branch', 'Joke'),\n",
              " ('Hunter', 'Lang', 'Party'),\n",
              " ('Kyla', 'Mueller', 'Party'),\n",
              " ('Dahlia', 'Brown', 'Gadgetts'),\n",
              " ('Tyrone', 'Davenport', 'Joke'),\n",
              " ('Jordan', 'Bruno', 'Celebration'),\n",
              " ('Thor', 'Schneider', 'Costume'),\n",
              " ('Nicole', 'Simpson', 'Party'),\n",
              " ('Martin', 'Golden', 'Costume'),\n",
              " ('Fiona', 'Massey', 'Celebration'),\n",
              " ('Ashton', 'Jefferson', 'Celebration'),\n",
              " ('Hammett', 'Ingram', 'Gadgetts'),\n",
              " ('Evangeline', 'Dickerson', 'Celebration'),\n",
              " ('Armand', 'Sosa', 'Joke'),\n",
              " ('Nicole', 'Warren', 'Costume'),\n",
              " ('Dolan', 'Sparks', 'Gadgetts'),\n",
              " ('Naomi', 'Bowman', 'Party'),\n",
              " ('Tanek', 'Bauer', 'Gadgetts'),\n",
              " ('Dahlia', 'Brown', 'Party'),\n",
              " ('Ebony', 'Roth', 'Costume'),\n",
              " ('Hilel', 'Adkins', 'Costume'),\n",
              " ('Drew', 'Harrington', 'Celebration'),\n",
              " ('Wynter', 'Wiggins', 'Celebration'),\n",
              " ('Wyoming', 'Hobbs', 'Celebration'),\n",
              " ('Sid', 'Bravo', 'Party'),\n",
              " ('Marah', 'Valentine', 'Celebration'),\n",
              " ('Steven', 'Davenport', 'Celebration'),\n",
              " ('Dai', 'Mason', 'Gadgetts'),\n",
              " ('Kylie', 'Jefferson', 'Celebration'),\n",
              " ('Amber', 'Flores', 'Gadgetts'),\n",
              " ('Grace', 'Burnett', 'Celebration'),\n",
              " ('Nevada', 'Petersen', 'Joke'),\n",
              " ('Mechelle', 'Suarez', 'Celebration'),\n",
              " ('Adele', 'Ramos', 'Party'),\n",
              " ('Jordan', 'Bruno', 'Costume'),\n",
              " ('Joelle', 'Carr', 'Costume'),\n",
              " ('Dahlia', 'Brown', 'Gadgetts'),\n",
              " ('Teagan', 'Taylor', 'Gadgetts'),\n",
              " ('Winifred', 'Olsen', 'Celebration'),\n",
              " ('Brendan', 'Melendez', 'Gadgetts'),\n",
              " ('Abdul', 'Vasquez', 'Gadgetts'),\n",
              " ('Veda', 'Mclaughlin', 'Gadgetts'),\n",
              " ('Rafael', 'Singleton', 'Party'),\n",
              " ('Aileen', 'Reilly', 'Costume'),\n",
              " ('Xenos', 'Cross', 'Joke'),\n",
              " ('Brielle', 'Carpenter', 'Gadgetts'),\n",
              " ('Sid', 'Bravo', 'Joke'),\n",
              " ('Xerxes', 'Byers', 'Costume'),\n",
              " ('Harriet', 'Barlow', 'Costume'),\n",
              " ('Martha', 'Velez', 'Costume'),\n",
              " ('Gil', 'Valdez', 'Celebration'),\n",
              " ('Teagan', 'Ferguson', 'Gadgetts'),\n",
              " ('Simon', 'Mann', 'Joke'),\n",
              " ('Declan', 'Bender', 'Costume'),\n",
              " ('Tatyana', 'Schmidt', 'Costume'),\n",
              " ('Steven', 'Davenport', 'Celebration'),\n",
              " ('Jordan', 'Bruno', 'Celebration'),\n",
              " ('Steven', 'Davenport', 'Celebration'),\n",
              " ('Amena', 'Hayden', 'Joke'),\n",
              " ('Jermaine', 'Thomas', 'Joke'),\n",
              " ('Leo', 'Benjamin', 'Celebration'),\n",
              " ('Aristotle', 'Russo', 'Gadgetts'),\n",
              " ('Tyrone', 'Davenport', 'Costume'),\n",
              " ('Gil', 'Reid', 'Party'),\n",
              " ('Aaron', 'Cohen', 'Celebration'),\n",
              " ('Tyrone', 'Davenport', 'Celebration'),\n",
              " ('Keefe', 'Moon', 'Celebration'),\n",
              " ('Nora', 'Nolan', 'Celebration'),\n",
              " ('Timon', 'Flynn', 'Joke'),\n",
              " ('Belle', 'Wright', 'Joke'),\n",
              " ('Rachel', 'Lynn', 'Gadgetts'),\n",
              " ('Kane', 'Frederick', 'Party'),\n",
              " ('Sydnee', 'Cannon', 'Gadgetts'),\n",
              " ('Jordan', 'Bruno', 'Joke'),\n",
              " ('Amela', 'Guthrie', 'Celebration'),\n",
              " ('Wing', 'Shelton', 'Party'),\n",
              " ('Bradley', 'Suarez', 'Gadgetts'),\n",
              " ('Miriam', 'Carr', 'Celebration'),\n",
              " ('Mallory', 'Evans', 'Celebration'),\n",
              " ('Veronica', 'Riggs', 'Costume'),\n",
              " ('Flavia', 'Duncan', 'Party'),\n",
              " ('Bert', 'Mejia', 'Party'),\n",
              " ('Genevieve', 'Larsen', 'Joke')]"
            ]
          },
          "metadata": {},
          "execution_count": 14
        }
      ]
    },
    {
      "cell_type": "markdown",
      "source": [
        "Here we have a simple _LEFT JOIN_ that combines customer name and product category by joining on the category id."
      ],
      "metadata": {
        "id": "RfgjUNpIVlj7"
      }
    },
    {
      "cell_type": "markdown",
      "source": [
        "## Fake Data\n",
        "When building a prototype, sometimes it can be time consuming to create synthetic data to populate our tables. This example uses the Python package _Faker_ to automate this for us:"
      ],
      "metadata": {
        "id": "LanGesP0V1jz"
      }
    },
    {
      "cell_type": "code",
      "source": [
        "!pip install faker\n",
        "\n",
        "import random\n",
        "import duckdb\n",
        "import pandas as pd\n",
        "from faker import Faker\n",
        "import sys\n",
        "\n",
        "fake = Faker()\n",
        "\n",
        "def get_person():\n",
        "  person = {}\n",
        "  person['id'] = random.randrange(1000,9999999999999)\n",
        "  person['first_name'] = fake.first_name()\n",
        "  person['last_name'] = fake.last_name()\n",
        "  person['email'] = fake.unique.ascii_email()\n",
        "  person['company'] = fake.company()\n",
        "  person['phone'] = fake.phone_number()\n",
        "  return person\n",
        "\n",
        "personlist = []\n",
        "for x in range(10):\n",
        "  personlist.append(get_person())\n",
        "\n",
        "df = pd.DataFrame.from_dict(personlist)\n",
        "\n",
        "conn.execute(\"CREATE TABLE persons AS SELECT * FROM df\")"
      ],
      "metadata": {
        "colab": {
          "base_uri": "https://localhost:8080/"
        },
        "id": "xC8WeXhX5VU6",
        "outputId": "2781dcdc-b2d1-4c0d-e3bf-b679a76eab70"
      },
      "execution_count": 15,
      "outputs": [
        {
          "output_type": "stream",
          "name": "stdout",
          "text": [
            "Collecting faker\n",
            "  Downloading Faker-22.4.0-py3-none-any.whl (1.7 MB)\n",
            "\u001b[2K     \u001b[90m━━━━━━━━━━━━━━━━━━━━━━━━━━━━━━━━━━━━━━━━\u001b[0m \u001b[32m1.7/1.7 MB\u001b[0m \u001b[31m8.7 MB/s\u001b[0m eta \u001b[36m0:00:00\u001b[0m\n",
            "\u001b[?25hRequirement already satisfied: python-dateutil>=2.4 in /usr/local/lib/python3.10/dist-packages (from faker) (2.8.2)\n",
            "Requirement already satisfied: six>=1.5 in /usr/local/lib/python3.10/dist-packages (from python-dateutil>=2.4->faker) (1.16.0)\n",
            "Installing collected packages: faker\n",
            "Successfully installed faker-22.4.0\n"
          ]
        },
        {
          "output_type": "execute_result",
          "data": {
            "text/plain": [
              "<duckdb.duckdb.DuckDBPyConnection at 0x7e5e64183e30>"
            ]
          },
          "metadata": {},
          "execution_count": 15
        }
      ]
    },
    {
      "cell_type": "markdown",
      "source": [
        "After installing and loading the package we go through the following steps:\n",
        "\n",
        "\n",
        "1.   We create a function called _get\\_person()_ which uses _Faker_ to create a range of variables about a fake person (e.g. name and email address). These are stored into a Python dictionary which is returned at the end;\n",
        "2.   We use a for loop to create 10 fake people and save them in a list (_personlist_);\n",
        "3. We create a [_Pandas_ dataframe](https://pandas.pydata.org/docs/reference/api/pandas.DataFrame.html) (a popular data science tool - basically like storing the data as an Excel worksheet) to store our list;\n",
        "4. We create a new DuckDB table directly from this dataframe.\n",
        "\n",
        "We can see this is a fairly quick and painless process and shows us another reason why DuckDB has become popular in Python use-cases ... the ability to quickly and easily create and populate tables from within a Python script/process. Note we didn't even need to specify the datatypes of the fields, these are inferred directly from their corresponding Python values (e.g. string values stored as VARCHAR, int values as integers, etc.).\n",
        "\n",
        "To conclude, we can quickly check the table with a query:\n",
        "\n"
      ],
      "metadata": {
        "id": "AG5fYQGTWPF8"
      }
    },
    {
      "cell_type": "code",
      "source": [
        "conn.execute(\"SELECT * FROM persons;\").fetchall()"
      ],
      "metadata": {
        "colab": {
          "base_uri": "https://localhost:8080/"
        },
        "id": "r7etJ2AA5r4-",
        "outputId": "bef54c6c-9bd8-46ff-8809-59cfd562a219"
      },
      "execution_count": 16,
      "outputs": [
        {
          "output_type": "execute_result",
          "data": {
            "text/plain": [
              "[(665844710662,\n",
              "  'Brenda',\n",
              "  'Rodriguez',\n",
              "  'mhart@james.info',\n",
              "  'Rivers-Coleman',\n",
              "  '(630)731-3508'),\n",
              " (3010002433709,\n",
              "  'Regina',\n",
              "  'Anderson',\n",
              "  'daniel10@yahoo.com',\n",
              "  'Williams PLC',\n",
              "  '(493)766-1759x01910'),\n",
              " (5982549428911,\n",
              "  'Evan',\n",
              "  'Murray',\n",
              "  'richardcardenas@yahoo.com',\n",
              "  'Hamilton, Shaw and Norton',\n",
              "  '473-774-2353x01410'),\n",
              " (2652638526904,\n",
              "  'Jack',\n",
              "  'Ford',\n",
              "  'stevenmartinez@yahoo.com',\n",
              "  'Elliott, Hernandez and Dixon',\n",
              "  '2778472323'),\n",
              " (7356164727263,\n",
              "  'Angela',\n",
              "  'Sandoval',\n",
              "  'robertcastillo@yahoo.com',\n",
              "  'Hill-Howard',\n",
              "  '319-448-2531'),\n",
              " (2239672009845,\n",
              "  'Eric',\n",
              "  'Marquez',\n",
              "  'lopezkevin@yahoo.com',\n",
              "  'Sutton, Meadows and Mahoney',\n",
              "  '590-710-1594'),\n",
              " (151097069544,\n",
              "  'Sonia',\n",
              "  'Martin',\n",
              "  'stephaniemyers@hernandez.com',\n",
              "  'Freeman and Sons',\n",
              "  '001-970-759-0075x0472'),\n",
              " (8950444943540,\n",
              "  'Elizabeth',\n",
              "  'Mejia',\n",
              "  'jlloyd@vargas.net',\n",
              "  'Hall, Humphrey and Friedman',\n",
              "  '(984)796-4105x1838'),\n",
              " (7294596735716,\n",
              "  'Jonathan',\n",
              "  'Townsend',\n",
              "  'tatebrandi@king.com',\n",
              "  'Edwards Inc',\n",
              "  '933-724-1071'),\n",
              " (3130574208000,\n",
              "  'Gloria',\n",
              "  'Kelley',\n",
              "  'nicolestevens@wood.com',\n",
              "  'Ortiz-Reid',\n",
              "  '945-971-5318x389')]"
            ]
          },
          "metadata": {},
          "execution_count": 16
        }
      ]
    },
    {
      "cell_type": "markdown",
      "source": [
        "## Creating a table from a CSV file\n",
        "Our final example will show creating a table directly from a CSV file. If it is easier to create your data in Excel and then import, this is the easiest option.\n",
        "\n",
        "To start, download the file _apples\\_and\\_oranges.csv_ from the Github. We can upload this to Colab by running the following:"
      ],
      "metadata": {
        "id": "n4QANZ0SYOCF"
      }
    },
    {
      "cell_type": "code",
      "source": [
        "from google.colab import files\n",
        "upload = files.upload()"
      ],
      "metadata": {
        "id": "pcPLYDnu3tXf",
        "colab": {
          "base_uri": "https://localhost:8080/",
          "height": 73
        },
        "outputId": "1488c87e-c47e-4072-9756-0b5ecc3c1ece"
      },
      "execution_count": 17,
      "outputs": [
        {
          "output_type": "display_data",
          "data": {
            "text/plain": [
              "<IPython.core.display.HTML object>"
            ],
            "text/html": [
              "\n",
              "     <input type=\"file\" id=\"files-22505906-f383-4556-b849-16e06e75a23b\" name=\"files[]\" multiple disabled\n",
              "        style=\"border:none\" />\n",
              "     <output id=\"result-22505906-f383-4556-b849-16e06e75a23b\">\n",
              "      Upload widget is only available when the cell has been executed in the\n",
              "      current browser session. Please rerun this cell to enable.\n",
              "      </output>\n",
              "      <script>// Copyright 2017 Google LLC\n",
              "//\n",
              "// Licensed under the Apache License, Version 2.0 (the \"License\");\n",
              "// you may not use this file except in compliance with the License.\n",
              "// You may obtain a copy of the License at\n",
              "//\n",
              "//      http://www.apache.org/licenses/LICENSE-2.0\n",
              "//\n",
              "// Unless required by applicable law or agreed to in writing, software\n",
              "// distributed under the License is distributed on an \"AS IS\" BASIS,\n",
              "// WITHOUT WARRANTIES OR CONDITIONS OF ANY KIND, either express or implied.\n",
              "// See the License for the specific language governing permissions and\n",
              "// limitations under the License.\n",
              "\n",
              "/**\n",
              " * @fileoverview Helpers for google.colab Python module.\n",
              " */\n",
              "(function(scope) {\n",
              "function span(text, styleAttributes = {}) {\n",
              "  const element = document.createElement('span');\n",
              "  element.textContent = text;\n",
              "  for (const key of Object.keys(styleAttributes)) {\n",
              "    element.style[key] = styleAttributes[key];\n",
              "  }\n",
              "  return element;\n",
              "}\n",
              "\n",
              "// Max number of bytes which will be uploaded at a time.\n",
              "const MAX_PAYLOAD_SIZE = 100 * 1024;\n",
              "\n",
              "function _uploadFiles(inputId, outputId) {\n",
              "  const steps = uploadFilesStep(inputId, outputId);\n",
              "  const outputElement = document.getElementById(outputId);\n",
              "  // Cache steps on the outputElement to make it available for the next call\n",
              "  // to uploadFilesContinue from Python.\n",
              "  outputElement.steps = steps;\n",
              "\n",
              "  return _uploadFilesContinue(outputId);\n",
              "}\n",
              "\n",
              "// This is roughly an async generator (not supported in the browser yet),\n",
              "// where there are multiple asynchronous steps and the Python side is going\n",
              "// to poll for completion of each step.\n",
              "// This uses a Promise to block the python side on completion of each step,\n",
              "// then passes the result of the previous step as the input to the next step.\n",
              "function _uploadFilesContinue(outputId) {\n",
              "  const outputElement = document.getElementById(outputId);\n",
              "  const steps = outputElement.steps;\n",
              "\n",
              "  const next = steps.next(outputElement.lastPromiseValue);\n",
              "  return Promise.resolve(next.value.promise).then((value) => {\n",
              "    // Cache the last promise value to make it available to the next\n",
              "    // step of the generator.\n",
              "    outputElement.lastPromiseValue = value;\n",
              "    return next.value.response;\n",
              "  });\n",
              "}\n",
              "\n",
              "/**\n",
              " * Generator function which is called between each async step of the upload\n",
              " * process.\n",
              " * @param {string} inputId Element ID of the input file picker element.\n",
              " * @param {string} outputId Element ID of the output display.\n",
              " * @return {!Iterable<!Object>} Iterable of next steps.\n",
              " */\n",
              "function* uploadFilesStep(inputId, outputId) {\n",
              "  const inputElement = document.getElementById(inputId);\n",
              "  inputElement.disabled = false;\n",
              "\n",
              "  const outputElement = document.getElementById(outputId);\n",
              "  outputElement.innerHTML = '';\n",
              "\n",
              "  const pickedPromise = new Promise((resolve) => {\n",
              "    inputElement.addEventListener('change', (e) => {\n",
              "      resolve(e.target.files);\n",
              "    });\n",
              "  });\n",
              "\n",
              "  const cancel = document.createElement('button');\n",
              "  inputElement.parentElement.appendChild(cancel);\n",
              "  cancel.textContent = 'Cancel upload';\n",
              "  const cancelPromise = new Promise((resolve) => {\n",
              "    cancel.onclick = () => {\n",
              "      resolve(null);\n",
              "    };\n",
              "  });\n",
              "\n",
              "  // Wait for the user to pick the files.\n",
              "  const files = yield {\n",
              "    promise: Promise.race([pickedPromise, cancelPromise]),\n",
              "    response: {\n",
              "      action: 'starting',\n",
              "    }\n",
              "  };\n",
              "\n",
              "  cancel.remove();\n",
              "\n",
              "  // Disable the input element since further picks are not allowed.\n",
              "  inputElement.disabled = true;\n",
              "\n",
              "  if (!files) {\n",
              "    return {\n",
              "      response: {\n",
              "        action: 'complete',\n",
              "      }\n",
              "    };\n",
              "  }\n",
              "\n",
              "  for (const file of files) {\n",
              "    const li = document.createElement('li');\n",
              "    li.append(span(file.name, {fontWeight: 'bold'}));\n",
              "    li.append(span(\n",
              "        `(${file.type || 'n/a'}) - ${file.size} bytes, ` +\n",
              "        `last modified: ${\n",
              "            file.lastModifiedDate ? file.lastModifiedDate.toLocaleDateString() :\n",
              "                                    'n/a'} - `));\n",
              "    const percent = span('0% done');\n",
              "    li.appendChild(percent);\n",
              "\n",
              "    outputElement.appendChild(li);\n",
              "\n",
              "    const fileDataPromise = new Promise((resolve) => {\n",
              "      const reader = new FileReader();\n",
              "      reader.onload = (e) => {\n",
              "        resolve(e.target.result);\n",
              "      };\n",
              "      reader.readAsArrayBuffer(file);\n",
              "    });\n",
              "    // Wait for the data to be ready.\n",
              "    let fileData = yield {\n",
              "      promise: fileDataPromise,\n",
              "      response: {\n",
              "        action: 'continue',\n",
              "      }\n",
              "    };\n",
              "\n",
              "    // Use a chunked sending to avoid message size limits. See b/62115660.\n",
              "    let position = 0;\n",
              "    do {\n",
              "      const length = Math.min(fileData.byteLength - position, MAX_PAYLOAD_SIZE);\n",
              "      const chunk = new Uint8Array(fileData, position, length);\n",
              "      position += length;\n",
              "\n",
              "      const base64 = btoa(String.fromCharCode.apply(null, chunk));\n",
              "      yield {\n",
              "        response: {\n",
              "          action: 'append',\n",
              "          file: file.name,\n",
              "          data: base64,\n",
              "        },\n",
              "      };\n",
              "\n",
              "      let percentDone = fileData.byteLength === 0 ?\n",
              "          100 :\n",
              "          Math.round((position / fileData.byteLength) * 100);\n",
              "      percent.textContent = `${percentDone}% done`;\n",
              "\n",
              "    } while (position < fileData.byteLength);\n",
              "  }\n",
              "\n",
              "  // All done.\n",
              "  yield {\n",
              "    response: {\n",
              "      action: 'complete',\n",
              "    }\n",
              "  };\n",
              "}\n",
              "\n",
              "scope.google = scope.google || {};\n",
              "scope.google.colab = scope.google.colab || {};\n",
              "scope.google.colab._files = {\n",
              "  _uploadFiles,\n",
              "  _uploadFilesContinue,\n",
              "};\n",
              "})(self);\n",
              "</script> "
            ]
          },
          "metadata": {}
        },
        {
          "output_type": "stream",
          "name": "stdout",
          "text": [
            "Saving apples_and_oranges.csv to apples_and_oranges.csv\n"
          ]
        }
      ]
    },
    {
      "cell_type": "markdown",
      "source": [
        "Selecting the downloaded file from the file picker saves it into our Colab instance. With the file setup we can create a database table directly from it:"
      ],
      "metadata": {
        "id": "2nIsvOpqZype"
      }
    },
    {
      "cell_type": "code",
      "source": [
        "conn.execute(\"CREATE TABLE fruit AS SELECT * FROM apples_and_oranges.csv;\")"
      ],
      "metadata": {
        "colab": {
          "base_uri": "https://localhost:8080/"
        },
        "id": "7VwHjP9UZzEy",
        "outputId": "72ce74f5-e0aa-4d5d-f920-d5688d121556"
      },
      "execution_count": 18,
      "outputs": [
        {
          "output_type": "execute_result",
          "data": {
            "text/plain": [
              "<duckdb.duckdb.DuckDBPyConnection at 0x7e5e64183e30>"
            ]
          },
          "metadata": {},
          "execution_count": 18
        }
      ]
    },
    {
      "cell_type": "markdown",
      "source": [
        "We can check it's working with a simple SQL query to select two of the fields created:"
      ],
      "metadata": {
        "id": "roFjNT2KZ9BB"
      }
    },
    {
      "cell_type": "code",
      "source": [
        "conn.execute(\"SELECT fruit_name, mass FROM fruit;\").fetchall()"
      ],
      "metadata": {
        "colab": {
          "base_uri": "https://localhost:8080/"
        },
        "id": "D6q1Us0AZ9gD",
        "outputId": "cfef8290-e291-4f69-c531-4083a4880b79"
      },
      "execution_count": 19,
      "outputs": [
        {
          "output_type": "execute_result",
          "data": {
            "text/plain": [
              "[('apple', 192),\n",
              " ('apple', 180),\n",
              " ('apple', 176),\n",
              " ('apple', 178),\n",
              " ('apple', 172),\n",
              " ('apple', 166),\n",
              " ('apple', 172),\n",
              " ('apple', 154),\n",
              " ('apple', 164),\n",
              " ('apple', 152),\n",
              " ('apple', 156),\n",
              " ('apple', 156),\n",
              " ('apple', 168),\n",
              " ('apple', 162),\n",
              " ('apple', 162),\n",
              " ('apple', 160),\n",
              " ('apple', 156),\n",
              " ('apple', 140),\n",
              " ('apple', 170),\n",
              " ('orange', 342),\n",
              " ('orange', 356),\n",
              " ('orange', 362),\n",
              " ('orange', 204),\n",
              " ('orange', 140),\n",
              " ('orange', 160),\n",
              " ('orange', 158),\n",
              " ('orange', 210),\n",
              " ('orange', 164),\n",
              " ('orange', 190),\n",
              " ('orange', 142),\n",
              " ('orange', 150),\n",
              " ('orange', 160),\n",
              " ('orange', 154),\n",
              " ('orange', 158),\n",
              " ('orange', 144),\n",
              " ('orange', 154),\n",
              " ('orange', 180),\n",
              " ('orange', 154)]"
            ]
          },
          "metadata": {},
          "execution_count": 19
        }
      ]
    },
    {
      "cell_type": "markdown",
      "source": [
        "As before, this gives us a really quick way to get data into our DB. Also as before, DuckDB has also inferred all the column headings and data types (we can see the _fruit\\_name_ is represented as a string (VARCHAR) and _mass_ as an integer)."
      ],
      "metadata": {
        "id": "efTAvSqiavIY"
      }
    }
  ]
}