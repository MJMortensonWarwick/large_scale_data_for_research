{
  "nbformat": 4,
  "nbformat_minor": 0,
  "metadata": {
    "colab": {
      "provenance": [],
      "authorship_tag": "ABX9TyNSyMexLDgUj3cEABuWGzIb",
      "include_colab_link": true
    },
    "kernelspec": {
      "name": "python3",
      "display_name": "Python 3"
    },
    "language_info": {
      "name": "python"
    }
  },
  "cells": [
    {
      "cell_type": "markdown",
      "metadata": {
        "id": "view-in-github",
        "colab_type": "text"
      },
      "source": [
        "<a href=\"https://colab.research.google.com/github/MJMortensonWarwick/large_scale_data_for_research/blob/main/extracting_data_from_the_arXiv_api.ipynb\" target=\"_parent\"><img src=\"https://colab.research.google.com/assets/colab-badge.svg\" alt=\"Open In Colab\"/></a>"
      ]
    },
    {
      "cell_type": "markdown",
      "source": [
        "# Extracting Data from the arXiv API\n",
        "In this tutorial we will be extracting data from an API. In order to keep things simple we will use an API that doesn't require the developer (i.e. you) to possess an API key, although (as per the lecture) most important APIs have this requirement. To make things relevant we will use the API of one of the biggest academic databases in machine learning (and other computer science and general science topics) arXiv.\n",
        "\n",
        "In fact, as is the case for many useful APIs, there is a Python package designed to interact with the arXiv API ... imaginatively named arxiv. While in the real world it would make more sense to use this, to gain a slightly fuller experience we will access the API by writing our own code.\n",
        "\n",
        "Let's begin with the example straight out of the arXiv docs:"
      ],
      "metadata": {
        "id": "tjf2_YvIe35s"
      }
    },
    {
      "cell_type": "code",
      "execution_count": 1,
      "metadata": {
        "colab": {
          "base_uri": "https://localhost:8080/"
        },
        "id": "lM4khREye3X5",
        "outputId": "f49d0ffb-2b42-47ba-cd09-73d948e2a56f"
      },
      "outputs": [
        {
          "output_type": "stream",
          "name": "stdout",
          "text": [
            "b'<?xml version=\"1.0\" encoding=\"UTF-8\"?>\\n<feed xmlns=\"http://www.w3.org/2005/Atom\">\\n  <link href=\"http://arxiv.org/api/query?search_query%3Dall%3Aelectron%26id_list%3D%26start%3D0%26max_results%3D1\" rel=\"self\" type=\"application/atom+xml\"/>\\n  <title type=\"html\">ArXiv Query: search_query=all:electron&amp;id_list=&amp;start=0&amp;max_results=1</title>\\n  <id>http://arxiv.org/api/cHxbiOdZaP56ODnBPIenZhzg5f8</id>\\n  <updated>2024-01-22T00:00:00-05:00</updated>\\n  <opensearch:totalResults xmlns:opensearch=\"http://a9.com/-/spec/opensearch/1.1/\">205411</opensearch:totalResults>\\n  <opensearch:startIndex xmlns:opensearch=\"http://a9.com/-/spec/opensearch/1.1/\">0</opensearch:startIndex>\\n  <opensearch:itemsPerPage xmlns:opensearch=\"http://a9.com/-/spec/opensearch/1.1/\">1</opensearch:itemsPerPage>\\n  <entry>\\n    <id>http://arxiv.org/abs/cond-mat/0102536v1</id>\\n    <updated>2001-02-28T20:12:09Z</updated>\\n    <published>2001-02-28T20:12:09Z</published>\\n    <title>Impact of Electron-Electron Cusp on Configuration Interaction Energies</title>\\n    <summary>  The effect of the electron-electron cusp on the convergence of configuration\\ninteraction (CI) wave functions is examined. By analogy with the\\npseudopotential approach for electron-ion interactions, an effective\\nelectron-electron interaction is developed which closely reproduces the\\nscattering of the Coulomb interaction but is smooth and finite at zero\\nelectron-electron separation. The exact many-electron wave function for this\\nsmooth effective interaction has no cusp at zero electron-electron separation.\\nWe perform CI and quantum Monte Carlo calculations for He and Be atoms, both\\nwith the Coulomb electron-electron interaction and with the smooth effective\\nelectron-electron interaction. We find that convergence of the CI expansion of\\nthe wave function for the smooth electron-electron interaction is not\\nsignificantly improved compared with that for the divergent Coulomb interaction\\nfor energy differences on the order of 1 mHartree. This shows that, contrary to\\npopular belief, description of the electron-electron cusp is not a limiting\\nfactor, to within chemical accuracy, for CI calculations.\\n</summary>\\n    <author>\\n      <name>David Prendergast</name>\\n      <arxiv:affiliation xmlns:arxiv=\"http://arxiv.org/schemas/atom\">Department of Physics</arxiv:affiliation>\\n    </author>\\n    <author>\\n      <name>M. Nolan</name>\\n      <arxiv:affiliation xmlns:arxiv=\"http://arxiv.org/schemas/atom\">NMRC, University College, Cork, Ireland</arxiv:affiliation>\\n    </author>\\n    <author>\\n      <name>Claudia Filippi</name>\\n      <arxiv:affiliation xmlns:arxiv=\"http://arxiv.org/schemas/atom\">Department of Physics</arxiv:affiliation>\\n    </author>\\n    <author>\\n      <name>Stephen Fahy</name>\\n      <arxiv:affiliation xmlns:arxiv=\"http://arxiv.org/schemas/atom\">Department of Physics</arxiv:affiliation>\\n    </author>\\n    <author>\\n      <name>J. C. Greer</name>\\n      <arxiv:affiliation xmlns:arxiv=\"http://arxiv.org/schemas/atom\">NMRC, University College, Cork, Ireland</arxiv:affiliation>\\n    </author>\\n    <arxiv:doi xmlns:arxiv=\"http://arxiv.org/schemas/atom\">10.1063/1.1383585</arxiv:doi>\\n    <link title=\"doi\" href=\"http://dx.doi.org/10.1063/1.1383585\" rel=\"related\"/>\\n    <arxiv:comment xmlns:arxiv=\"http://arxiv.org/schemas/atom\">11 pages, 6 figures, 3 tables, LaTeX209, submitted to The Journal of\\n  Chemical Physics</arxiv:comment>\\n    <arxiv:journal_ref xmlns:arxiv=\"http://arxiv.org/schemas/atom\">J. Chem. Phys. 115, 1626 (2001)</arxiv:journal_ref>\\n    <link href=\"http://arxiv.org/abs/cond-mat/0102536v1\" rel=\"alternate\" type=\"text/html\"/>\\n    <link title=\"pdf\" href=\"http://arxiv.org/pdf/cond-mat/0102536v1\" rel=\"related\" type=\"application/pdf\"/>\\n    <arxiv:primary_category xmlns:arxiv=\"http://arxiv.org/schemas/atom\" term=\"cond-mat.str-el\" scheme=\"http://arxiv.org/schemas/atom\"/>\\n    <category term=\"cond-mat.str-el\" scheme=\"http://arxiv.org/schemas/atom\"/>\\n  </entry>\\n</feed>\\n'\n"
          ]
        }
      ],
      "source": [
        "import urllib.request as libreq\n",
        "\n",
        "with libreq.urlopen('http://export.arxiv.org/api/query?search_query=all:electron&start=0&max_results=1') as url:\n",
        "    r = url.read()\n",
        "    print(r)"
      ]
    },
    {
      "cell_type": "markdown",
      "source": [
        "The key part of our request is the URL we open:\n",
        "\n",
        "'http://export.arxiv.org/api/query?search_query=all:electron&start=0&max_results=1'\n",
        "\n",
        "This includes all the key elements of our request.\n",
        "\n",
        "We are passing a \"search query\" (as opposed to requesting a specific article ID). This is essentially the same as typing in our search keyword into the website search engine. In the example our keyword is \"electron\" and we select \"all\" fields (author, title, abstract/summary, etc.). Secondly we pass two parameters. The first is \"start=0\" (i.e. start at the beginning rather than with an offset) and the second says we want only one result. You can read more about the different options here.\n",
        "\n",
        "Given this, let's modify our code to get a slightly different result:"
      ],
      "metadata": {
        "id": "ImL3SEHSfF6o"
      }
    },
    {
      "cell_type": "code",
      "source": [
        "import urllib.request as libreq\n",
        "\n",
        "with libreq.urlopen('http://export.arxiv.org/api/query?search_query=all:big%20data&start=0&max_results=2') as url:\n",
        "    r = url.read()\n",
        "    print(r)"
      ],
      "metadata": {
        "colab": {
          "base_uri": "https://localhost:8080/"
        },
        "id": "qVQuhlkPfKT4",
        "outputId": "d5196b19-a934-4716-ac30-f759dfea3149"
      },
      "execution_count": 2,
      "outputs": [
        {
          "output_type": "stream",
          "name": "stdout",
          "text": [
            "b'<?xml version=\"1.0\" encoding=\"UTF-8\"?>\\n<feed xmlns=\"http://www.w3.org/2005/Atom\">\\n  <link href=\"http://arxiv.org/api/query?search_query%3Dall%3Abig%20data%26id_list%3D%26start%3D0%26max_results%3D2\" rel=\"self\" type=\"application/atom+xml\"/>\\n  <title type=\"html\">ArXiv Query: search_query=all:big data&amp;id_list=&amp;start=0&amp;max_results=2</title>\\n  <id>http://arxiv.org/api/IUokeS+hVBNCJX8CzzelXRfmcnA</id>\\n  <updated>2024-01-22T00:00:00-05:00</updated>\\n  <opensearch:totalResults xmlns:opensearch=\"http://a9.com/-/spec/opensearch/1.1/\">496292</opensearch:totalResults>\\n  <opensearch:startIndex xmlns:opensearch=\"http://a9.com/-/spec/opensearch/1.1/\">0</opensearch:startIndex>\\n  <opensearch:itemsPerPage xmlns:opensearch=\"http://a9.com/-/spec/opensearch/1.1/\">2</opensearch:itemsPerPage>\\n  <entry>\\n    <id>http://arxiv.org/abs/2012.09109v1</id>\\n    <updated>2020-12-15T16:18:52Z</updated>\\n    <published>2020-12-15T16:18:52Z</published>\\n    <title>Big Data</title>\\n    <summary>  The Internet of Things, crowdsourcing, social media, public authorities, and\\nother sources generate bigger and bigger data sets. Big and open data offers\\nmany benefits for emergency management, but also pose new challenges. This\\nchapter will review the sources of big data and their characteristics. We then\\ndiscuss potential benefits of big data for emergency management along with the\\ntechnological and societal challenges it poses. We review central technologies\\nfor big-data storage and processing in general, before presenting the Spark\\nbig-data engine in more detail. Finally, we review ethical and societal threats\\nthat big data pose.\\n</summary>\\n    <author>\\n      <name>Andreas L Opdahl</name>\\n    </author>\\n    <author>\\n      <name>Vimala Nunavath</name>\\n    </author>\\n    <arxiv:doi xmlns:arxiv=\"http://arxiv.org/schemas/atom\">10.1007/978-3-030-48099-8</arxiv:doi>\\n    <link title=\"doi\" href=\"http://dx.doi.org/10.1007/978-3-030-48099-8\" rel=\"related\"/>\\n    <arxiv:comment xmlns:arxiv=\"http://arxiv.org/schemas/atom\">Opdahl, A. L., and Nunavath, V. (2020). Big Data. Big Data in\\n  Emergency Management: Exploitation Techniques for Social and Mobile Data,\\n  15-29</arxiv:comment>\\n    <link href=\"http://arxiv.org/abs/2012.09109v1\" rel=\"alternate\" type=\"text/html\"/>\\n    <link title=\"pdf\" href=\"http://arxiv.org/pdf/2012.09109v1\" rel=\"related\" type=\"application/pdf\"/>\\n    <arxiv:primary_category xmlns:arxiv=\"http://arxiv.org/schemas/atom\" term=\"cs.CY\" scheme=\"http://arxiv.org/schemas/atom\"/>\\n    <category term=\"cs.CY\" scheme=\"http://arxiv.org/schemas/atom\"/>\\n  </entry>\\n  <entry>\\n    <id>http://arxiv.org/abs/2001.05607v4</id>\\n    <updated>2020-04-20T07:43:37Z</updated>\\n    <published>2020-01-16T01:29:32Z</published>\\n    <title>NNSC-Cobordism of Bartnik Data in High Dimensions</title>\\n    <summary>  In this short note, we formulate three problems relating to nonnegative\\nscalar curvature (NNSC) fill-ins. Loosely speaking, the first two problems\\nfocus on: When are $(n-1)$-dimensional Bartnik data $\\\\big(\\\\Sigma_i ^{n-1},\\n\\\\gamma_i, H_i\\\\big)$, $i=1,2$, NNSC-cobordant? (i.e., there is an\\n$n$-dimensional compact Riemannian manifold $\\\\big(\\\\Omega^n, g\\\\big)$ with scalar\\ncurvature $R(g)\\\\geq 0$ and the boundary $\\\\partial \\\\Omega=\\\\Sigma_{1} \\\\cup\\n\\\\Sigma_{2}$ such that $\\\\gamma_i$ is the metric on $\\\\Sigma_i ^{n-1}$ induced by\\n$g$, and $H_i$ is the mean curvature of $\\\\Sigma_i$ in $\\\\big(\\\\Omega^n, g\\\\big)$).\\nIf $\\\\big(\\\\mathbb{S}^{n-1},\\\\gamma_{\\\\rm std},0\\\\big)$ is positive scalar curvature\\n(PSC) cobordant to $\\\\big(\\\\Sigma_1 ^{n-1}, \\\\gamma_1, H_1\\\\big)$, where\\n$\\\\big(\\\\mathbb{S}^{n-1}, \\\\gamma_{\\\\rm std}\\\\big)$ denotes the standard round unit\\nsphere then $\\\\big(\\\\Sigma_1 ^{n-1}, \\\\gamma_1, H_1\\\\big)$ admits an NNSC fill-in.\\nJust as Gromov\\'s conjecture is connected with positive mass theorem, our\\nproblems are connected with Penrose inequality, at least in the case of $n=3$.\\nOur third problem is on $\\\\Lambda\\\\big(\\\\Sigma^{n-1}, \\\\gamma\\\\big)$ defined below.\\n</summary>\\n    <author>\\n      <name>Xue Hu</name>\\n    </author>\\n    <author>\\n      <name>Yuguang Shi</name>\\n    </author>\\n    <arxiv:doi xmlns:arxiv=\"http://arxiv.org/schemas/atom\">10.3842/SIGMA.2020.030</arxiv:doi>\\n    <link title=\"doi\" href=\"http://dx.doi.org/10.3842/SIGMA.2020.030\" rel=\"related\"/>\\n    <arxiv:journal_ref xmlns:arxiv=\"http://arxiv.org/schemas/atom\">SIGMA 16 (2020), 030, 5 pages</arxiv:journal_ref>\\n    <link href=\"http://arxiv.org/abs/2001.05607v4\" rel=\"alternate\" type=\"text/html\"/>\\n    <link title=\"pdf\" href=\"http://arxiv.org/pdf/2001.05607v4\" rel=\"related\" type=\"application/pdf\"/>\\n    <arxiv:primary_category xmlns:arxiv=\"http://arxiv.org/schemas/atom\" term=\"math.DG\" scheme=\"http://arxiv.org/schemas/atom\"/>\\n    <category term=\"math.DG\" scheme=\"http://arxiv.org/schemas/atom\"/>\\n    <category term=\"53C20, 83C99\" scheme=\"http://arxiv.org/schemas/atom\"/>\\n  </entry>\\n</feed>\\n'\n"
          ]
        }
      ]
    },
    {
      "cell_type": "markdown",
      "source": [
        "Here we have changed the search term to be \"big data\". Note we use the standard URL encoding for a space between each word which is \"%20\". We have also requested two results (\"max_results=2\") rather than one. Now that we have some data, we can use tools such as BeutifulSoup to extract the information we need (see the previous tutorial)."
      ],
      "metadata": {
        "id": "oDT-dWGVfPPl"
      }
    }
  ]
}